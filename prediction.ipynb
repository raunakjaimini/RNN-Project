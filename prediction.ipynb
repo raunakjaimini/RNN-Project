{
 "cells": [
  {
   "cell_type": "code",
   "execution_count": 1,
   "metadata": {},
   "outputs": [],
   "source": [
    "# Step 1: Import Libraries and Load the Model\n",
    "import numpy as np\n",
    "import tensorflow as tf\n",
    "from tensorflow.keras.datasets import imdb\n",
    "from tensorflow.keras.preprocessing import sequence\n",
    "from tensorflow.keras.models import load_model"
   ]
  },
  {
   "cell_type": "code",
   "execution_count": 2,
   "metadata": {},
   "outputs": [],
   "source": [
    "\n",
    "# Load the IMDB dataset word index\n",
    "word_index = imdb.get_word_index()\n",
    "reverse_word_index = {value: key for key, value in word_index.items()}"
   ]
  },
  {
   "cell_type": "code",
   "execution_count": 3,
   "metadata": {},
   "outputs": [
    {
     "name": "stderr",
     "output_type": "stream",
     "text": [
      "WARNING:absl:Compiled the loaded model, but the compiled metrics have yet to be built. `model.compile_metrics` will be empty until you train or evaluate the model.\n"
     ]
    },
    {
     "data": {
      "text/html": [
       "<pre style=\"white-space:pre;overflow-x:auto;line-height:normal;font-family:Menlo,'DejaVu Sans Mono',consolas,'Courier New',monospace\"><span style=\"font-weight: bold\">Model: \"sequential\"</span>\n",
       "</pre>\n"
      ],
      "text/plain": [
       "\u001b[1mModel: \"sequential\"\u001b[0m\n"
      ]
     },
     "metadata": {},
     "output_type": "display_data"
    },
    {
     "data": {
      "text/html": [
       "<pre style=\"white-space:pre;overflow-x:auto;line-height:normal;font-family:Menlo,'DejaVu Sans Mono',consolas,'Courier New',monospace\">┏━━━━━━━━━━━━━━━━━━━━━━━━━━━━━━━━━┳━━━━━━━━━━━━━━━━━━━━━━━━┳━━━━━━━━━━━━━━━┓\n",
       "┃<span style=\"font-weight: bold\"> Layer (type)                    </span>┃<span style=\"font-weight: bold\"> Output Shape           </span>┃<span style=\"font-weight: bold\">       Param # </span>┃\n",
       "┡━━━━━━━━━━━━━━━━━━━━━━━━━━━━━━━━━╇━━━━━━━━━━━━━━━━━━━━━━━━╇━━━━━━━━━━━━━━━┩\n",
       "│ embedding (<span style=\"color: #0087ff; text-decoration-color: #0087ff\">Embedding</span>)           │ (<span style=\"color: #00af00; text-decoration-color: #00af00\">32</span>, <span style=\"color: #00af00; text-decoration-color: #00af00\">500</span>, <span style=\"color: #00af00; text-decoration-color: #00af00\">128</span>)         │     <span style=\"color: #00af00; text-decoration-color: #00af00\">1,280,000</span> │\n",
       "├─────────────────────────────────┼────────────────────────┼───────────────┤\n",
       "│ simple_rnn (<span style=\"color: #0087ff; text-decoration-color: #0087ff\">SimpleRNN</span>)          │ (<span style=\"color: #00af00; text-decoration-color: #00af00\">32</span>, <span style=\"color: #00af00; text-decoration-color: #00af00\">128</span>)              │        <span style=\"color: #00af00; text-decoration-color: #00af00\">32,896</span> │\n",
       "├─────────────────────────────────┼────────────────────────┼───────────────┤\n",
       "│ dense (<span style=\"color: #0087ff; text-decoration-color: #0087ff\">Dense</span>)                   │ (<span style=\"color: #00af00; text-decoration-color: #00af00\">32</span>, <span style=\"color: #00af00; text-decoration-color: #00af00\">1</span>)                │           <span style=\"color: #00af00; text-decoration-color: #00af00\">129</span> │\n",
       "└─────────────────────────────────┴────────────────────────┴───────────────┘\n",
       "</pre>\n"
      ],
      "text/plain": [
       "┏━━━━━━━━━━━━━━━━━━━━━━━━━━━━━━━━━┳━━━━━━━━━━━━━━━━━━━━━━━━┳━━━━━━━━━━━━━━━┓\n",
       "┃\u001b[1m \u001b[0m\u001b[1mLayer (type)                   \u001b[0m\u001b[1m \u001b[0m┃\u001b[1m \u001b[0m\u001b[1mOutput Shape          \u001b[0m\u001b[1m \u001b[0m┃\u001b[1m \u001b[0m\u001b[1m      Param #\u001b[0m\u001b[1m \u001b[0m┃\n",
       "┡━━━━━━━━━━━━━━━━━━━━━━━━━━━━━━━━━╇━━━━━━━━━━━━━━━━━━━━━━━━╇━━━━━━━━━━━━━━━┩\n",
       "│ embedding (\u001b[38;5;33mEmbedding\u001b[0m)           │ (\u001b[38;5;34m32\u001b[0m, \u001b[38;5;34m500\u001b[0m, \u001b[38;5;34m128\u001b[0m)         │     \u001b[38;5;34m1,280,000\u001b[0m │\n",
       "├─────────────────────────────────┼────────────────────────┼───────────────┤\n",
       "│ simple_rnn (\u001b[38;5;33mSimpleRNN\u001b[0m)          │ (\u001b[38;5;34m32\u001b[0m, \u001b[38;5;34m128\u001b[0m)              │        \u001b[38;5;34m32,896\u001b[0m │\n",
       "├─────────────────────────────────┼────────────────────────┼───────────────┤\n",
       "│ dense (\u001b[38;5;33mDense\u001b[0m)                   │ (\u001b[38;5;34m32\u001b[0m, \u001b[38;5;34m1\u001b[0m)                │           \u001b[38;5;34m129\u001b[0m │\n",
       "└─────────────────────────────────┴────────────────────────┴───────────────┘\n"
      ]
     },
     "metadata": {},
     "output_type": "display_data"
    },
    {
     "data": {
      "text/html": [
       "<pre style=\"white-space:pre;overflow-x:auto;line-height:normal;font-family:Menlo,'DejaVu Sans Mono',consolas,'Courier New',monospace\"><span style=\"font-weight: bold\"> Total params: </span><span style=\"color: #00af00; text-decoration-color: #00af00\">1,313,027</span> (5.01 MB)\n",
       "</pre>\n"
      ],
      "text/plain": [
       "\u001b[1m Total params: \u001b[0m\u001b[38;5;34m1,313,027\u001b[0m (5.01 MB)\n"
      ]
     },
     "metadata": {},
     "output_type": "display_data"
    },
    {
     "data": {
      "text/html": [
       "<pre style=\"white-space:pre;overflow-x:auto;line-height:normal;font-family:Menlo,'DejaVu Sans Mono',consolas,'Courier New',monospace\"><span style=\"font-weight: bold\"> Trainable params: </span><span style=\"color: #00af00; text-decoration-color: #00af00\">1,313,025</span> (5.01 MB)\n",
       "</pre>\n"
      ],
      "text/plain": [
       "\u001b[1m Trainable params: \u001b[0m\u001b[38;5;34m1,313,025\u001b[0m (5.01 MB)\n"
      ]
     },
     "metadata": {},
     "output_type": "display_data"
    },
    {
     "data": {
      "text/html": [
       "<pre style=\"white-space:pre;overflow-x:auto;line-height:normal;font-family:Menlo,'DejaVu Sans Mono',consolas,'Courier New',monospace\"><span style=\"font-weight: bold\"> Non-trainable params: </span><span style=\"color: #00af00; text-decoration-color: #00af00\">0</span> (0.00 B)\n",
       "</pre>\n"
      ],
      "text/plain": [
       "\u001b[1m Non-trainable params: \u001b[0m\u001b[38;5;34m0\u001b[0m (0.00 B)\n"
      ]
     },
     "metadata": {},
     "output_type": "display_data"
    },
    {
     "data": {
      "text/html": [
       "<pre style=\"white-space:pre;overflow-x:auto;line-height:normal;font-family:Menlo,'DejaVu Sans Mono',consolas,'Courier New',monospace\"><span style=\"font-weight: bold\"> Optimizer params: </span><span style=\"color: #00af00; text-decoration-color: #00af00\">2</span> (12.00 B)\n",
       "</pre>\n"
      ],
      "text/plain": [
       "\u001b[1m Optimizer params: \u001b[0m\u001b[38;5;34m2\u001b[0m (12.00 B)\n"
      ]
     },
     "metadata": {},
     "output_type": "display_data"
    }
   ],
   "source": [
    "# Load the pre-trained model with ReLU activation\n",
    "model = load_model('simple_rnn_imdb.h5')\n",
    "model.summary()"
   ]
  },
  {
   "cell_type": "code",
   "execution_count": 4,
   "metadata": {},
   "outputs": [
    {
     "data": {
      "text/plain": [
       "[array([[-9.32193696e-02,  4.28830506e-03, -4.11083102e-02, ...,\n",
       "          4.96593788e-02, -7.20718727e-02,  4.88066394e-03],\n",
       "        [ 3.77571806e-02,  1.47378575e-02,  1.82454921e-02, ...,\n",
       "          4.31930050e-02, -1.00414378e-04,  3.71636860e-02],\n",
       "        [-2.56317034e-02,  5.23039848e-02, -1.15458379e-02, ...,\n",
       "         -2.08018143e-02, -7.19692232e-03,  2.45457725e-03],\n",
       "        ...,\n",
       "        [-1.76511537e-02,  1.95476245e-02, -1.20410742e-02, ...,\n",
       "         -2.65696291e-02,  3.81520949e-02, -3.46356183e-02],\n",
       "        [-8.80945027e-02, -5.68375865e-04,  2.76247691e-02, ...,\n",
       "          1.03619091e-01, -3.33526060e-02, -3.59260999e-02],\n",
       "        [ 1.75673999e-02,  1.04951449e-02, -2.63792407e-02, ...,\n",
       "         -1.95018835e-02, -3.27219255e-02, -1.49684204e-02]], dtype=float32),\n",
       " array([[ 0.01544894,  0.00458619,  0.05946092, ...,  0.14340086,\n",
       "         -0.0484723 , -0.01069272],\n",
       "        [ 0.00849997,  0.05820225, -0.1129963 , ..., -0.09202208,\n",
       "          0.12480003,  0.11815507],\n",
       "        [ 0.00774356, -0.12802376, -0.13004036, ...,  0.01440811,\n",
       "         -0.1297376 , -0.02459528],\n",
       "        ...,\n",
       "        [ 0.13407107,  0.04972142,  0.03029944, ..., -0.00735159,\n",
       "         -0.0107569 , -0.12527573],\n",
       "        [ 0.11227679, -0.04644801, -0.12376282, ...,  0.10725351,\n",
       "          0.1062191 , -0.07283527],\n",
       "        [ 0.14180149,  0.0042823 , -0.11612492, ..., -0.05504421,\n",
       "          0.161991  , -0.05726018]], dtype=float32),\n",
       " array([[ 0.00520498, -0.04781829,  0.10839641, ...,  0.28716812,\n",
       "         -0.04742058,  0.01343098],\n",
       "        [-0.02525297, -0.07575513,  0.04013488, ...,  0.00918738,\n",
       "          0.05705153,  0.06497603],\n",
       "        [ 0.01521826,  0.05809446, -0.10911479, ..., -0.07001422,\n",
       "          0.03287734,  0.04140034],\n",
       "        ...,\n",
       "        [ 0.03890878,  0.02027701,  0.01246861, ...,  0.00560088,\n",
       "         -0.06647974,  0.10688528],\n",
       "        [-0.00255428, -0.02523571, -0.19061056, ..., -0.06578787,\n",
       "         -0.03967706,  0.1923742 ],\n",
       "        [ 0.10381943,  0.1826303 ,  0.00400977, ..., -0.12175597,\n",
       "         -0.02068989, -0.08076216]], dtype=float32),\n",
       " array([-1.83947030e-02,  4.91012214e-03, -1.68777555e-02, -1.02256807e-02,\n",
       "        -2.03678496e-02,  1.70037299e-02, -7.38748070e-03,  1.00027155e-02,\n",
       "         2.10701283e-02, -2.97426712e-03,  1.64265707e-02,  2.23175194e-02,\n",
       "         8.78834073e-03,  2.34334581e-02, -1.14953630e-02, -2.92900093e-02,\n",
       "         2.42214762e-02, -6.02010824e-03, -3.95398401e-03, -6.84268726e-03,\n",
       "         4.91727609e-03, -2.55711284e-02,  2.21010260e-02, -7.55463168e-03,\n",
       "        -1.68092828e-02, -4.98498837e-03, -5.31366002e-03, -2.91210879e-02,\n",
       "        -3.95006593e-03, -7.24750385e-03,  1.71328932e-02, -1.58721562e-02,\n",
       "         5.18808374e-03, -1.90386921e-02, -1.70040503e-02,  1.71532109e-02,\n",
       "        -1.72682647e-02, -5.23047289e-03, -7.71689368e-03,  1.62698030e-02,\n",
       "        -2.07436290e-02, -1.68491993e-02, -2.76980153e-03,  2.04085838e-02,\n",
       "        -3.81560903e-03, -1.43180322e-02, -1.94296800e-02, -2.55328882e-02,\n",
       "        -1.30145103e-02, -1.87498350e-02,  1.73407681e-02,  5.32824732e-03,\n",
       "        -3.71121392e-02,  6.64135325e-04, -6.76231552e-03, -7.48912804e-04,\n",
       "         2.85660774e-02, -2.36032847e-02, -2.06731278e-02,  2.67860834e-02,\n",
       "         1.13956528e-02, -1.67988637e-03,  7.25359470e-03, -2.24639196e-02,\n",
       "         2.36277394e-02, -4.71198140e-03,  2.38504857e-02, -1.00601427e-02,\n",
       "        -1.03898998e-02, -4.05343482e-03,  1.46488063e-02,  2.48651151e-02,\n",
       "        -1.43798217e-02, -1.17791386e-03, -1.92034058e-02,  1.33610447e-03,\n",
       "         2.07971931e-02,  1.66747961e-02,  3.27232084e-03, -3.41404113e-03,\n",
       "        -1.92275830e-03,  2.95448001e-03, -6.29092567e-03, -5.73883159e-03,\n",
       "        -1.48345539e-02, -4.14334517e-03, -2.83517147e-04, -1.64700262e-02,\n",
       "        -1.34481853e-02,  9.30219702e-03,  3.48148458e-02,  7.70019324e-05,\n",
       "         3.25522199e-02,  8.79561156e-03, -6.03626575e-03, -8.19125213e-03,\n",
       "         2.83735394e-02, -1.52055612e-02,  1.98931117e-02,  1.87582672e-02,\n",
       "         1.48917213e-02,  1.66299231e-02,  1.75466668e-03,  3.09077674e-03,\n",
       "        -1.42498566e-02,  1.73719060e-02, -4.64050239e-03, -1.58044007e-02,\n",
       "         7.12725148e-02, -8.19932856e-03, -9.32544097e-03,  1.43130496e-02,\n",
       "        -1.03619788e-02, -4.78972076e-03,  2.26094667e-03, -9.99339111e-03,\n",
       "        -6.18324208e-04, -4.51423824e-02,  1.08814640e-02,  2.11385768e-02,\n",
       "         5.67398919e-03,  1.64321605e-02, -1.09876422e-02,  8.26953910e-03,\n",
       "        -2.41340417e-02, -9.37100593e-03, -2.44071204e-02,  1.57177972e-03],\n",
       "       dtype=float32),\n",
       " array([[ 0.2074739 ],\n",
       "        [ 0.12278688],\n",
       "        [ 0.23043235],\n",
       "        [-0.16618757],\n",
       "        [ 0.18472244],\n",
       "        [ 0.16326156],\n",
       "        [ 0.13238646],\n",
       "        [ 0.17126755],\n",
       "        [-0.08760177],\n",
       "        [-0.12521248],\n",
       "        [-0.03130379],\n",
       "        [ 0.0421255 ],\n",
       "        [-0.28349745],\n",
       "        [ 0.09741443],\n",
       "        [-1.1212354 ],\n",
       "        [-0.16229607],\n",
       "        [-0.16313426],\n",
       "        [ 0.03928082],\n",
       "        [ 0.19824405],\n",
       "        [ 0.05043354],\n",
       "        [-0.14533544],\n",
       "        [ 0.31376147],\n",
       "        [ 0.20566745],\n",
       "        [ 0.10137482],\n",
       "        [-0.03891748],\n",
       "        [ 0.14314161],\n",
       "        [ 0.09583749],\n",
       "        [ 0.15139975],\n",
       "        [ 0.63348705],\n",
       "        [ 0.04881002],\n",
       "        [-0.00364592],\n",
       "        [ 0.15650755],\n",
       "        [-0.06380662],\n",
       "        [-0.07564063],\n",
       "        [ 0.04385992],\n",
       "        [ 0.09601197],\n",
       "        [ 0.14345145],\n",
       "        [-0.12542693],\n",
       "        [ 0.19939932],\n",
       "        [-0.05247425],\n",
       "        [ 0.05376763],\n",
       "        [-0.2115569 ],\n",
       "        [ 0.14110225],\n",
       "        [-0.1419301 ],\n",
       "        [-0.15300414],\n",
       "        [ 0.03428854],\n",
       "        [ 0.16296908],\n",
       "        [ 0.03367358],\n",
       "        [ 0.15802506],\n",
       "        [-0.08311824],\n",
       "        [-0.16098885],\n",
       "        [ 0.13541879],\n",
       "        [ 0.13342877],\n",
       "        [ 0.23103958],\n",
       "        [ 0.02627091],\n",
       "        [-0.61541975],\n",
       "        [-0.08556369],\n",
       "        [ 0.14581682],\n",
       "        [ 0.44703802],\n",
       "        [-0.04457165],\n",
       "        [ 0.16323248],\n",
       "        [ 0.12807865],\n",
       "        [ 0.32071006],\n",
       "        [ 0.15685272],\n",
       "        [-0.09647175],\n",
       "        [ 0.10712646],\n",
       "        [ 0.06583904],\n",
       "        [ 0.02370945],\n",
       "        [-0.1016883 ],\n",
       "        [-0.0642205 ],\n",
       "        [-0.08014646],\n",
       "        [-0.1371447 ],\n",
       "        [ 0.36460236],\n",
       "        [ 0.2223637 ],\n",
       "        [-0.04073824],\n",
       "        [-0.15044045],\n",
       "        [-0.15833609],\n",
       "        [-0.13400762],\n",
       "        [-0.0998438 ],\n",
       "        [ 0.10877896],\n",
       "        [ 0.20339128],\n",
       "        [ 0.17947483],\n",
       "        [ 0.19484249],\n",
       "        [-0.16954385],\n",
       "        [-0.05053867],\n",
       "        [ 0.18950346],\n",
       "        [-0.14963195],\n",
       "        [ 0.18268457],\n",
       "        [ 0.5316665 ],\n",
       "        [-0.143433  ],\n",
       "        [-0.19887918],\n",
       "        [ 0.15549794],\n",
       "        [ 0.00468471],\n",
       "        [-0.12975492],\n",
       "        [ 0.01220556],\n",
       "        [-0.15035427],\n",
       "        [-0.10957655],\n",
       "        [-0.25946322],\n",
       "        [-0.01677729],\n",
       "        [-0.12420154],\n",
       "        [-0.17567052],\n",
       "        [-0.08025115],\n",
       "        [ 0.04278118],\n",
       "        [ 0.12337245],\n",
       "        [ 0.06844692],\n",
       "        [ 0.18559672],\n",
       "        [-0.03172397],\n",
       "        [ 0.11479788],\n",
       "        [ 0.5698254 ],\n",
       "        [-0.09504597],\n",
       "        [ 0.21834508],\n",
       "        [ 0.16345118],\n",
       "        [ 0.19336846],\n",
       "        [-0.08510061],\n",
       "        [-0.13132192],\n",
       "        [-0.00304763],\n",
       "        [-0.13539147],\n",
       "        [ 0.17946015],\n",
       "        [ 0.11229837],\n",
       "        [-0.04485588],\n",
       "        [ 0.6002709 ],\n",
       "        [ 0.11996425],\n",
       "        [ 0.11771812],\n",
       "        [ 0.0067516 ],\n",
       "        [-0.09668888],\n",
       "        [ 0.17953995],\n",
       "        [ 0.3885168 ],\n",
       "        [ 0.40886435]], dtype=float32),\n",
       " array([-0.04959062], dtype=float32)]"
      ]
     },
     "execution_count": 4,
     "metadata": {},
     "output_type": "execute_result"
    }
   ],
   "source": [
    "model.get_weights()"
   ]
  },
  {
   "cell_type": "code",
   "execution_count": 5,
   "metadata": {},
   "outputs": [],
   "source": [
    "# Step 2: Helper Functions\n",
    "# Function to decode reviews\n",
    "def decode_review(encoded_review):\n",
    "    return ' '.join([reverse_word_index.get(i - 3, '?') for i in encoded_review])\n",
    "\n",
    "# Function to preprocess user input\n",
    "def preprocess_text(text):\n",
    "    words = text.lower().split()\n",
    "    encoded_review = [word_index.get(word, 2) + 3 for word in words]\n",
    "    padded_review = sequence.pad_sequences([encoded_review], maxlen=500)\n",
    "    return padded_review"
   ]
  },
  {
   "cell_type": "code",
   "execution_count": 8,
   "metadata": {},
   "outputs": [],
   "source": [
    "### Prediction  function\n",
    "\n",
    "def predict_sentiment(review):\n",
    "    preprocessed_input=preprocess_text(review)\n",
    "\n",
    "    prediction=model.predict(preprocessed_input)\n",
    "\n",
    "    sentiment = 'Positive' if prediction[0][0] > 0.05 else 'Negative'\n",
    "    \n",
    "    return sentiment, prediction[0][0]"
   ]
  },
  {
   "cell_type": "code",
   "execution_count": 9,
   "metadata": {},
   "outputs": [
    {
     "name": "stdout",
     "output_type": "stream",
     "text": [
      "\u001b[1m1/1\u001b[0m \u001b[32m━━━━━━━━━━━━━━━━━━━━\u001b[0m\u001b[37m\u001b[0m \u001b[1m0s\u001b[0m 79ms/step\n",
      "Review: This movie was fantastic! The acting was great and the plot was thrilling.\n",
      "Sentiment: Positive\n",
      "Prediction Score: 0.05843605846166611\n"
     ]
    }
   ],
   "source": [
    "# Step 4: User Input and Prediction\n",
    "# Example review for prediction\n",
    "example_review = \"This movie was fantastic! The acting was great and the plot was thrilling.\"\n",
    "\n",
    "sentiment,score=predict_sentiment(example_review)\n",
    "\n",
    "print(f'Review: {example_review}')\n",
    "print(f'Sentiment: {sentiment}')\n",
    "print(f'Prediction Score: {score}')"
   ]
  },
  {
   "cell_type": "code",
   "execution_count": null,
   "metadata": {},
   "outputs": [],
   "source": []
  }
 ],
 "metadata": {
  "kernelspec": {
   "display_name": "myenv",
   "language": "python",
   "name": "python3"
  },
  "language_info": {
   "codemirror_mode": {
    "name": "ipython",
    "version": 3
   },
   "file_extension": ".py",
   "mimetype": "text/x-python",
   "name": "python",
   "nbconvert_exporter": "python",
   "pygments_lexer": "ipython3",
   "version": "3.12.5"
  }
 },
 "nbformat": 4,
 "nbformat_minor": 2
}
