{
 "cells": [
  {
   "cell_type": "code",
   "execution_count": 1,
   "metadata": {},
   "outputs": [],
   "source": [
    "from tensorflow.keras.preprocessing.text import one_hot"
   ]
  },
  {
   "cell_type": "code",
   "execution_count": 3,
   "metadata": {},
   "outputs": [
    {
     "data": {
      "text/plain": [
       "['the glass of milk',\n",
       " 'the glass of juice',\n",
       " 'the cup of tea',\n",
       " 'I am a good boy',\n",
       " 'I am a good developer',\n",
       " 'understand the meaning of words',\n",
       " 'your videos are good']"
      ]
     },
     "execution_count": 3,
     "metadata": {},
     "output_type": "execute_result"
    }
   ],
   "source": [
    "### sentences\n",
    "sent=[  'the glass of milk',\n",
    "     'the glass of juice',\n",
    "     'the cup of tea',\n",
    "    'I am a good boy',\n",
    "     'I am a good developer',\n",
    "     'understand the meaning of words',\n",
    "     'your videos are good',]\n",
    "sent"
   ]
  },
  {
   "cell_type": "code",
   "execution_count": 4,
   "metadata": {},
   "outputs": [],
   "source": [
    "## Define the vocabulary size\n",
    "voc_size=10000"
   ]
  },
  {
   "cell_type": "code",
   "execution_count": 5,
   "metadata": {},
   "outputs": [
    {
     "data": {
      "text/plain": [
       "['the glass of milk',\n",
       " 'the glass of juice',\n",
       " 'the cup of tea',\n",
       " 'I am a good boy',\n",
       " 'I am a good developer',\n",
       " 'understand the meaning of words',\n",
       " 'your videos are good']"
      ]
     },
     "execution_count": 5,
     "metadata": {},
     "output_type": "execute_result"
    }
   ],
   "source": [
    "sent"
   ]
  },
  {
   "cell_type": "code",
   "execution_count": 6,
   "metadata": {},
   "outputs": [
    {
     "data": {
      "text/plain": [
       "[[5911, 2127, 7074, 4794],\n",
       " [5911, 2127, 7074, 5533],\n",
       " [5911, 8532, 7074, 7028],\n",
       " [6594, 505, 4873, 2536, 1135],\n",
       " [6594, 505, 4873, 2536, 140],\n",
       " [6424, 5911, 8210, 7074, 4763],\n",
       " [5655, 6726, 1410, 2536]]"
      ]
     },
     "execution_count": 6,
     "metadata": {},
     "output_type": "execute_result"
    }
   ],
   "source": [
    "### One Hot Representation\n",
    "one_hot_repr=[one_hot(words,voc_size)for words in sent]\n",
    "one_hot_repr"
   ]
  },
  {
   "cell_type": "code",
   "execution_count": 7,
   "metadata": {},
   "outputs": [],
   "source": [
    "## word Embedding Representation\n",
    "\n",
    "from tensorflow.keras.layers import Embedding\n",
    "#from tensorflow.keras.processing.sequence import pad_sequences\n",
    "from tensorflow.keras.utils import pad_sequences\n",
    "from tensorflow.keras.models import Sequential\n",
    "\n"
   ]
  },
  {
   "cell_type": "code",
   "execution_count": 8,
   "metadata": {},
   "outputs": [],
   "source": [
    "import numpy as np"
   ]
  },
  {
   "cell_type": "code",
   "execution_count": 9,
   "metadata": {},
   "outputs": [
    {
     "name": "stdout",
     "output_type": "stream",
     "text": [
      "[[   0    0    0    0 5911 2127 7074 4794]\n",
      " [   0    0    0    0 5911 2127 7074 5533]\n",
      " [   0    0    0    0 5911 8532 7074 7028]\n",
      " [   0    0    0 6594  505 4873 2536 1135]\n",
      " [   0    0    0 6594  505 4873 2536  140]\n",
      " [   0    0    0 6424 5911 8210 7074 4763]\n",
      " [   0    0    0    0 5655 6726 1410 2536]]\n"
     ]
    }
   ],
   "source": [
    "sent_length=8\n",
    "embedded_docs=pad_sequences(one_hot_repr,padding='pre',maxlen=sent_length)\n",
    "print(embedded_docs)"
   ]
  },
  {
   "cell_type": "code",
   "execution_count": 10,
   "metadata": {},
   "outputs": [],
   "source": [
    "## feature representation\n",
    "dim=10"
   ]
  },
  {
   "cell_type": "code",
   "execution_count": 11,
   "metadata": {},
   "outputs": [
    {
     "name": "stderr",
     "output_type": "stream",
     "text": [
      "d:\\Valuebound-Training\\projects\\ml projects\\myenv\\Lib\\site-packages\\keras\\src\\layers\\core\\embedding.py:90: UserWarning: Argument `input_length` is deprecated. Just remove it.\n",
      "  warnings.warn(\n"
     ]
    }
   ],
   "source": [
    "model=Sequential()\n",
    "model.add(Embedding(voc_size,dim,input_length=sent_length))\n",
    "model.compile('adam','mse')"
   ]
  },
  {
   "cell_type": "code",
   "execution_count": 12,
   "metadata": {},
   "outputs": [
    {
     "data": {
      "text/html": [
       "<pre style=\"white-space:pre;overflow-x:auto;line-height:normal;font-family:Menlo,'DejaVu Sans Mono',consolas,'Courier New',monospace\"><span style=\"font-weight: bold\">Model: \"sequential\"</span>\n",
       "</pre>\n"
      ],
      "text/plain": [
       "\u001b[1mModel: \"sequential\"\u001b[0m\n"
      ]
     },
     "metadata": {},
     "output_type": "display_data"
    },
    {
     "data": {
      "text/html": [
       "<pre style=\"white-space:pre;overflow-x:auto;line-height:normal;font-family:Menlo,'DejaVu Sans Mono',consolas,'Courier New',monospace\">┏━━━━━━━━━━━━━━━━━━━━━━━━━━━━━━━━━┳━━━━━━━━━━━━━━━━━━━━━━━━┳━━━━━━━━━━━━━━━┓\n",
       "┃<span style=\"font-weight: bold\"> Layer (type)                    </span>┃<span style=\"font-weight: bold\"> Output Shape           </span>┃<span style=\"font-weight: bold\">       Param # </span>┃\n",
       "┡━━━━━━━━━━━━━━━━━━━━━━━━━━━━━━━━━╇━━━━━━━━━━━━━━━━━━━━━━━━╇━━━━━━━━━━━━━━━┩\n",
       "│ embedding (<span style=\"color: #0087ff; text-decoration-color: #0087ff\">Embedding</span>)           │ ?                      │   <span style=\"color: #00af00; text-decoration-color: #00af00\">0</span> (unbuilt) │\n",
       "└─────────────────────────────────┴────────────────────────┴───────────────┘\n",
       "</pre>\n"
      ],
      "text/plain": [
       "┏━━━━━━━━━━━━━━━━━━━━━━━━━━━━━━━━━┳━━━━━━━━━━━━━━━━━━━━━━━━┳━━━━━━━━━━━━━━━┓\n",
       "┃\u001b[1m \u001b[0m\u001b[1mLayer (type)                   \u001b[0m\u001b[1m \u001b[0m┃\u001b[1m \u001b[0m\u001b[1mOutput Shape          \u001b[0m\u001b[1m \u001b[0m┃\u001b[1m \u001b[0m\u001b[1m      Param #\u001b[0m\u001b[1m \u001b[0m┃\n",
       "┡━━━━━━━━━━━━━━━━━━━━━━━━━━━━━━━━━╇━━━━━━━━━━━━━━━━━━━━━━━━╇━━━━━━━━━━━━━━━┩\n",
       "│ embedding (\u001b[38;5;33mEmbedding\u001b[0m)           │ ?                      │   \u001b[38;5;34m0\u001b[0m (unbuilt) │\n",
       "└─────────────────────────────────┴────────────────────────┴───────────────┘\n"
      ]
     },
     "metadata": {},
     "output_type": "display_data"
    },
    {
     "data": {
      "text/html": [
       "<pre style=\"white-space:pre;overflow-x:auto;line-height:normal;font-family:Menlo,'DejaVu Sans Mono',consolas,'Courier New',monospace\"><span style=\"font-weight: bold\"> Total params: </span><span style=\"color: #00af00; text-decoration-color: #00af00\">0</span> (0.00 B)\n",
       "</pre>\n"
      ],
      "text/plain": [
       "\u001b[1m Total params: \u001b[0m\u001b[38;5;34m0\u001b[0m (0.00 B)\n"
      ]
     },
     "metadata": {},
     "output_type": "display_data"
    },
    {
     "data": {
      "text/html": [
       "<pre style=\"white-space:pre;overflow-x:auto;line-height:normal;font-family:Menlo,'DejaVu Sans Mono',consolas,'Courier New',monospace\"><span style=\"font-weight: bold\"> Trainable params: </span><span style=\"color: #00af00; text-decoration-color: #00af00\">0</span> (0.00 B)\n",
       "</pre>\n"
      ],
      "text/plain": [
       "\u001b[1m Trainable params: \u001b[0m\u001b[38;5;34m0\u001b[0m (0.00 B)\n"
      ]
     },
     "metadata": {},
     "output_type": "display_data"
    },
    {
     "data": {
      "text/html": [
       "<pre style=\"white-space:pre;overflow-x:auto;line-height:normal;font-family:Menlo,'DejaVu Sans Mono',consolas,'Courier New',monospace\"><span style=\"font-weight: bold\"> Non-trainable params: </span><span style=\"color: #00af00; text-decoration-color: #00af00\">0</span> (0.00 B)\n",
       "</pre>\n"
      ],
      "text/plain": [
       "\u001b[1m Non-trainable params: \u001b[0m\u001b[38;5;34m0\u001b[0m (0.00 B)\n"
      ]
     },
     "metadata": {},
     "output_type": "display_data"
    }
   ],
   "source": [
    "model.summary()"
   ]
  },
  {
   "cell_type": "code",
   "execution_count": 13,
   "metadata": {},
   "outputs": [
    {
     "name": "stdout",
     "output_type": "stream",
     "text": [
      "\u001b[1m1/1\u001b[0m \u001b[32m━━━━━━━━━━━━━━━━━━━━\u001b[0m\u001b[37m\u001b[0m \u001b[1m0s\u001b[0m 152ms/step\n"
     ]
    },
    {
     "data": {
      "text/plain": [
       "array([[[-0.01301866,  0.01463134, -0.02022539, -0.0053599 ,\n",
       "          0.00705007,  0.00553762, -0.03478366, -0.04400055,\n",
       "          0.03616485, -0.0172495 ],\n",
       "        [-0.01301866,  0.01463134, -0.02022539, -0.0053599 ,\n",
       "          0.00705007,  0.00553762, -0.03478366, -0.04400055,\n",
       "          0.03616485, -0.0172495 ],\n",
       "        [-0.01301866,  0.01463134, -0.02022539, -0.0053599 ,\n",
       "          0.00705007,  0.00553762, -0.03478366, -0.04400055,\n",
       "          0.03616485, -0.0172495 ],\n",
       "        [-0.01301866,  0.01463134, -0.02022539, -0.0053599 ,\n",
       "          0.00705007,  0.00553762, -0.03478366, -0.04400055,\n",
       "          0.03616485, -0.0172495 ],\n",
       "        [-0.0127202 , -0.04176425,  0.0223076 , -0.02849486,\n",
       "         -0.00318972,  0.00655519,  0.04784751,  0.03203143,\n",
       "          0.02642563,  0.02357907],\n",
       "        [ 0.03072998, -0.03535682, -0.04556483, -0.00459334,\n",
       "         -0.02637869,  0.04190535, -0.03741286, -0.04026092,\n",
       "         -0.03068143, -0.04029223],\n",
       "        [-0.03858159,  0.01618958,  0.01512034, -0.04506861,\n",
       "          0.01564035, -0.037248  , -0.04359325,  0.04864952,\n",
       "          0.03531522, -0.00187426],\n",
       "        [ 0.04953955, -0.00693101,  0.03332015,  0.04647404,\n",
       "         -0.03201042,  0.01786718,  0.03451072, -0.02495714,\n",
       "          0.02840824,  0.01930877]],\n",
       "\n",
       "       [[-0.01301866,  0.01463134, -0.02022539, -0.0053599 ,\n",
       "          0.00705007,  0.00553762, -0.03478366, -0.04400055,\n",
       "          0.03616485, -0.0172495 ],\n",
       "        [-0.01301866,  0.01463134, -0.02022539, -0.0053599 ,\n",
       "          0.00705007,  0.00553762, -0.03478366, -0.04400055,\n",
       "          0.03616485, -0.0172495 ],\n",
       "        [-0.01301866,  0.01463134, -0.02022539, -0.0053599 ,\n",
       "          0.00705007,  0.00553762, -0.03478366, -0.04400055,\n",
       "          0.03616485, -0.0172495 ],\n",
       "        [-0.01301866,  0.01463134, -0.02022539, -0.0053599 ,\n",
       "          0.00705007,  0.00553762, -0.03478366, -0.04400055,\n",
       "          0.03616485, -0.0172495 ],\n",
       "        [-0.0127202 , -0.04176425,  0.0223076 , -0.02849486,\n",
       "         -0.00318972,  0.00655519,  0.04784751,  0.03203143,\n",
       "          0.02642563,  0.02357907],\n",
       "        [ 0.03072998, -0.03535682, -0.04556483, -0.00459334,\n",
       "         -0.02637869,  0.04190535, -0.03741286, -0.04026092,\n",
       "         -0.03068143, -0.04029223],\n",
       "        [-0.03858159,  0.01618958,  0.01512034, -0.04506861,\n",
       "          0.01564035, -0.037248  , -0.04359325,  0.04864952,\n",
       "          0.03531522, -0.00187426],\n",
       "        [ 0.02320292,  0.03598335, -0.00373107,  0.00011517,\n",
       "          0.02454347,  0.02291695,  0.04567851, -0.00498224,\n",
       "         -0.00614395, -0.02762239]],\n",
       "\n",
       "       [[-0.01301866,  0.01463134, -0.02022539, -0.0053599 ,\n",
       "          0.00705007,  0.00553762, -0.03478366, -0.04400055,\n",
       "          0.03616485, -0.0172495 ],\n",
       "        [-0.01301866,  0.01463134, -0.02022539, -0.0053599 ,\n",
       "          0.00705007,  0.00553762, -0.03478366, -0.04400055,\n",
       "          0.03616485, -0.0172495 ],\n",
       "        [-0.01301866,  0.01463134, -0.02022539, -0.0053599 ,\n",
       "          0.00705007,  0.00553762, -0.03478366, -0.04400055,\n",
       "          0.03616485, -0.0172495 ],\n",
       "        [-0.01301866,  0.01463134, -0.02022539, -0.0053599 ,\n",
       "          0.00705007,  0.00553762, -0.03478366, -0.04400055,\n",
       "          0.03616485, -0.0172495 ],\n",
       "        [-0.0127202 , -0.04176425,  0.0223076 , -0.02849486,\n",
       "         -0.00318972,  0.00655519,  0.04784751,  0.03203143,\n",
       "          0.02642563,  0.02357907],\n",
       "        [-0.02212868,  0.04563632, -0.00170409,  0.04970853,\n",
       "         -0.04871634, -0.01693041, -0.03028917, -0.00798399,\n",
       "          0.00044091,  0.00642656],\n",
       "        [-0.03858159,  0.01618958,  0.01512034, -0.04506861,\n",
       "          0.01564035, -0.037248  , -0.04359325,  0.04864952,\n",
       "          0.03531522, -0.00187426],\n",
       "        [ 0.0337603 ,  0.02207965, -0.01730137, -0.00918042,\n",
       "         -0.00053563, -0.03610431, -0.00842079,  0.02078599,\n",
       "         -0.04920398,  0.03098592]],\n",
       "\n",
       "       [[-0.01301866,  0.01463134, -0.02022539, -0.0053599 ,\n",
       "          0.00705007,  0.00553762, -0.03478366, -0.04400055,\n",
       "          0.03616485, -0.0172495 ],\n",
       "        [-0.01301866,  0.01463134, -0.02022539, -0.0053599 ,\n",
       "          0.00705007,  0.00553762, -0.03478366, -0.04400055,\n",
       "          0.03616485, -0.0172495 ],\n",
       "        [-0.01301866,  0.01463134, -0.02022539, -0.0053599 ,\n",
       "          0.00705007,  0.00553762, -0.03478366, -0.04400055,\n",
       "          0.03616485, -0.0172495 ],\n",
       "        [ 0.00555976, -0.02247505, -0.03978   ,  0.04999578,\n",
       "          0.00678091, -0.02955121,  0.01536098, -0.00697881,\n",
       "         -0.04321554, -0.04744688],\n",
       "        [ 0.0137295 , -0.00873579, -0.03243493, -0.00865255,\n",
       "         -0.01827959,  0.04521288, -0.03306197, -0.01259011,\n",
       "          0.00587112, -0.04695318],\n",
       "        [ 0.01228748,  0.00530783,  0.00460771,  0.02478783,\n",
       "         -0.02022466,  0.04754311, -0.00561885, -0.00984979,\n",
       "         -0.00191553,  0.03119903],\n",
       "        [ 0.03395147,  0.03542862,  0.00374158,  0.02924663,\n",
       "          0.04604444,  0.04607823, -0.04508714,  0.01404772,\n",
       "         -0.03893782, -0.03786644],\n",
       "        [-0.00144895, -0.04086425,  0.00239273, -0.04237453,\n",
       "          0.00559767, -0.04044033,  0.01499099, -0.0047554 ,\n",
       "          0.01212477,  0.02450942]],\n",
       "\n",
       "       [[-0.01301866,  0.01463134, -0.02022539, -0.0053599 ,\n",
       "          0.00705007,  0.00553762, -0.03478366, -0.04400055,\n",
       "          0.03616485, -0.0172495 ],\n",
       "        [-0.01301866,  0.01463134, -0.02022539, -0.0053599 ,\n",
       "          0.00705007,  0.00553762, -0.03478366, -0.04400055,\n",
       "          0.03616485, -0.0172495 ],\n",
       "        [-0.01301866,  0.01463134, -0.02022539, -0.0053599 ,\n",
       "          0.00705007,  0.00553762, -0.03478366, -0.04400055,\n",
       "          0.03616485, -0.0172495 ],\n",
       "        [ 0.00555976, -0.02247505, -0.03978   ,  0.04999578,\n",
       "          0.00678091, -0.02955121,  0.01536098, -0.00697881,\n",
       "         -0.04321554, -0.04744688],\n",
       "        [ 0.0137295 , -0.00873579, -0.03243493, -0.00865255,\n",
       "         -0.01827959,  0.04521288, -0.03306197, -0.01259011,\n",
       "          0.00587112, -0.04695318],\n",
       "        [ 0.01228748,  0.00530783,  0.00460771,  0.02478783,\n",
       "         -0.02022466,  0.04754311, -0.00561885, -0.00984979,\n",
       "         -0.00191553,  0.03119903],\n",
       "        [ 0.03395147,  0.03542862,  0.00374158,  0.02924663,\n",
       "          0.04604444,  0.04607823, -0.04508714,  0.01404772,\n",
       "         -0.03893782, -0.03786644],\n",
       "        [ 0.00333424,  0.02046602,  0.02804116, -0.04671649,\n",
       "         -0.01662296, -0.01648781,  0.00615343,  0.04883346,\n",
       "         -0.02899004,  0.02826819]],\n",
       "\n",
       "       [[-0.01301866,  0.01463134, -0.02022539, -0.0053599 ,\n",
       "          0.00705007,  0.00553762, -0.03478366, -0.04400055,\n",
       "          0.03616485, -0.0172495 ],\n",
       "        [-0.01301866,  0.01463134, -0.02022539, -0.0053599 ,\n",
       "          0.00705007,  0.00553762, -0.03478366, -0.04400055,\n",
       "          0.03616485, -0.0172495 ],\n",
       "        [-0.01301866,  0.01463134, -0.02022539, -0.0053599 ,\n",
       "          0.00705007,  0.00553762, -0.03478366, -0.04400055,\n",
       "          0.03616485, -0.0172495 ],\n",
       "        [-0.00121082, -0.03570094, -0.00872868,  0.04214882,\n",
       "         -0.0093597 , -0.04489861,  0.04521715,  0.01612164,\n",
       "          0.02260852, -0.0240028 ],\n",
       "        [-0.0127202 , -0.04176425,  0.0223076 , -0.02849486,\n",
       "         -0.00318972,  0.00655519,  0.04784751,  0.03203143,\n",
       "          0.02642563,  0.02357907],\n",
       "        [-0.04851387,  0.00062094,  0.04991784, -0.00869876,\n",
       "          0.03797548,  0.02346214, -0.02027485,  0.00379555,\n",
       "         -0.02982455,  0.01595278],\n",
       "        [-0.03858159,  0.01618958,  0.01512034, -0.04506861,\n",
       "          0.01564035, -0.037248  , -0.04359325,  0.04864952,\n",
       "          0.03531522, -0.00187426],\n",
       "        [-0.00936514,  0.00551678,  0.01665861,  0.04589446,\n",
       "         -0.0046859 ,  0.02921654,  0.01637813, -0.01336008,\n",
       "         -0.01965625, -0.04809239]],\n",
       "\n",
       "       [[-0.01301866,  0.01463134, -0.02022539, -0.0053599 ,\n",
       "          0.00705007,  0.00553762, -0.03478366, -0.04400055,\n",
       "          0.03616485, -0.0172495 ],\n",
       "        [-0.01301866,  0.01463134, -0.02022539, -0.0053599 ,\n",
       "          0.00705007,  0.00553762, -0.03478366, -0.04400055,\n",
       "          0.03616485, -0.0172495 ],\n",
       "        [-0.01301866,  0.01463134, -0.02022539, -0.0053599 ,\n",
       "          0.00705007,  0.00553762, -0.03478366, -0.04400055,\n",
       "          0.03616485, -0.0172495 ],\n",
       "        [-0.01301866,  0.01463134, -0.02022539, -0.0053599 ,\n",
       "          0.00705007,  0.00553762, -0.03478366, -0.04400055,\n",
       "          0.03616485, -0.0172495 ],\n",
       "        [-0.01858025,  0.02678803, -0.0402444 ,  0.02900071,\n",
       "         -0.04806254,  0.04837069, -0.01022967, -0.03477605,\n",
       "          0.0088402 , -0.02733585],\n",
       "        [ 0.01819998, -0.04271106,  0.00653919, -0.04164009,\n",
       "         -0.03564129,  0.02702131,  0.00760776,  0.00408902,\n",
       "         -0.01702235,  0.00437592],\n",
       "        [ 0.0117123 , -0.02364051,  0.01742188,  0.03714248,\n",
       "          0.02055429, -0.01174235, -0.03816351, -0.03235664,\n",
       "          0.00161862, -0.04925078],\n",
       "        [ 0.03395147,  0.03542862,  0.00374158,  0.02924663,\n",
       "          0.04604444,  0.04607823, -0.04508714,  0.01404772,\n",
       "         -0.03893782, -0.03786644]]], dtype=float32)"
      ]
     },
     "execution_count": 13,
     "metadata": {},
     "output_type": "execute_result"
    }
   ],
   "source": [
    "model.predict(embedded_docs)"
   ]
  },
  {
   "cell_type": "code",
   "execution_count": 17,
   "metadata": {},
   "outputs": [
    {
     "data": {
      "text/plain": [
       "array([   0,    0,    0,    0, 5911, 2127, 7074, 4794])"
      ]
     },
     "execution_count": 17,
     "metadata": {},
     "output_type": "execute_result"
    }
   ],
   "source": [
    "embedded_docs[0]"
   ]
  },
  {
   "cell_type": "code",
   "execution_count": 19,
   "metadata": {},
   "outputs": [
    {
     "ename": "ValueError",
     "evalue": "Exception encountered when calling Sequential.call().\n\n\u001b[1mCannot take the length of shape with unknown rank.\u001b[0m\n\nArguments received by Sequential.call():\n  • inputs=tf.Tensor(shape=<unknown>, dtype=int32)\n  • training=False\n  • mask=None",
     "output_type": "error",
     "traceback": [
      "\u001b[1;31m---------------------------------------------------------------------------\u001b[0m",
      "\u001b[1;31mValueError\u001b[0m                                Traceback (most recent call last)",
      "Cell \u001b[1;32mIn[19], line 1\u001b[0m\n\u001b[1;32m----> 1\u001b[0m \u001b[43mmodel\u001b[49m\u001b[38;5;241;43m.\u001b[39;49m\u001b[43mpredict\u001b[49m\u001b[43m(\u001b[49m\u001b[43membedded_docs\u001b[49m\u001b[43m[\u001b[49m\u001b[38;5;241;43m0\u001b[39;49m\u001b[43m]\u001b[49m\u001b[43m)\u001b[49m\n",
      "File \u001b[1;32md:\\Valuebound-Training\\projects\\ml projects\\myenv\\Lib\\site-packages\\keras\\src\\utils\\traceback_utils.py:122\u001b[0m, in \u001b[0;36mfilter_traceback.<locals>.error_handler\u001b[1;34m(*args, **kwargs)\u001b[0m\n\u001b[0;32m    119\u001b[0m     filtered_tb \u001b[38;5;241m=\u001b[39m _process_traceback_frames(e\u001b[38;5;241m.\u001b[39m__traceback__)\n\u001b[0;32m    120\u001b[0m     \u001b[38;5;66;03m# To get the full stack trace, call:\u001b[39;00m\n\u001b[0;32m    121\u001b[0m     \u001b[38;5;66;03m# `keras.config.disable_traceback_filtering()`\u001b[39;00m\n\u001b[1;32m--> 122\u001b[0m     \u001b[38;5;28;01mraise\u001b[39;00m e\u001b[38;5;241m.\u001b[39mwith_traceback(filtered_tb) \u001b[38;5;28;01mfrom\u001b[39;00m \u001b[38;5;28;01mNone\u001b[39;00m\n\u001b[0;32m    123\u001b[0m \u001b[38;5;28;01mfinally\u001b[39;00m:\n\u001b[0;32m    124\u001b[0m     \u001b[38;5;28;01mdel\u001b[39;00m filtered_tb\n",
      "File \u001b[1;32md:\\Valuebound-Training\\projects\\ml projects\\myenv\\Lib\\site-packages\\keras\\src\\utils\\traceback_utils.py:122\u001b[0m, in \u001b[0;36mfilter_traceback.<locals>.error_handler\u001b[1;34m(*args, **kwargs)\u001b[0m\n\u001b[0;32m    119\u001b[0m     filtered_tb \u001b[38;5;241m=\u001b[39m _process_traceback_frames(e\u001b[38;5;241m.\u001b[39m__traceback__)\n\u001b[0;32m    120\u001b[0m     \u001b[38;5;66;03m# To get the full stack trace, call:\u001b[39;00m\n\u001b[0;32m    121\u001b[0m     \u001b[38;5;66;03m# `keras.config.disable_traceback_filtering()`\u001b[39;00m\n\u001b[1;32m--> 122\u001b[0m     \u001b[38;5;28;01mraise\u001b[39;00m e\u001b[38;5;241m.\u001b[39mwith_traceback(filtered_tb) \u001b[38;5;28;01mfrom\u001b[39;00m \u001b[38;5;28;01mNone\u001b[39;00m\n\u001b[0;32m    123\u001b[0m \u001b[38;5;28;01mfinally\u001b[39;00m:\n\u001b[0;32m    124\u001b[0m     \u001b[38;5;28;01mdel\u001b[39;00m filtered_tb\n",
      "\u001b[1;31mValueError\u001b[0m: Exception encountered when calling Sequential.call().\n\n\u001b[1mCannot take the length of shape with unknown rank.\u001b[0m\n\nArguments received by Sequential.call():\n  • inputs=tf.Tensor(shape=<unknown>, dtype=int32)\n  • training=False\n  • mask=None"
     ]
    }
   ],
   "source": [
    "model.predict(embedded_docs[0])"
   ]
  },
  {
   "cell_type": "code",
   "execution_count": null,
   "metadata": {},
   "outputs": [],
   "source": []
  }
 ],
 "metadata": {
  "kernelspec": {
   "display_name": "myenv",
   "language": "python",
   "name": "python3"
  },
  "language_info": {
   "codemirror_mode": {
    "name": "ipython",
    "version": 3
   },
   "file_extension": ".py",
   "mimetype": "text/x-python",
   "name": "python",
   "nbconvert_exporter": "python",
   "pygments_lexer": "ipython3",
   "version": "3.12.5"
  }
 },
 "nbformat": 4,
 "nbformat_minor": 2
}
